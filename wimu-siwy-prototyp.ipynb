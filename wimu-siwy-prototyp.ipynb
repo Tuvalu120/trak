{
 "cells": [
  {
   "cell_type": "markdown",
   "id": "5a14f725",
   "metadata": {},
   "source": [
    "# WIMU-SIWY Prototyp\n",
    "### Autorzy: Bartosz Han, Bartosz Kisły, Igor Matynia\n",
    "\n",
    "\n",
    "W ramach prototypu, udało nam się stworzyć forka repozytorium zawierające kod źródłowy TRAKa, a także uruchomić tą metodę atrybucji danych na przykładowym zadaniu klasyfikacji obrazów. Ten notatnik zawiera przykład uruchomienia TRAKa na modelu sztucznej inteligencji - uruchomiliśmy TRAK na pretrenowanym modelu ResNet18, w celu wykonania atrybucji na części zbioru danych CIFAR100.\n",
    "\n",
    "W trakcie tworzenia prototypu, próbowaliśmy przeprowadzić testową atrybucję danych muzycznych. Nie udało nam się jednak przeprowadzić tego eksperymentu - wymagana jest głębsza analiza kodu źródłowego TRAKa."
   ]
  },
  {
   "cell_type": "code",
   "execution_count": null,
   "id": "41caff8a",
   "metadata": {},
   "outputs": [],
   "source": [
    "# Importowanie bibliotek\n",
    "import torch\n",
    "from trak import TRAKer\n",
    "from torchvision import transforms\n",
    "from torchvision import models\n",
    "from torchvision import datasets\n",
    "import matplotlib.pyplot as plt"
   ]
  },
  {
   "cell_type": "code",
   "execution_count": null,
   "id": "b36e55f0",
   "metadata": {},
   "outputs": [],
   "source": [
    "# Tworzenie modelu\n",
    "torch.manual_seed(42)\n",
    "model = models.resnet18()\n",
    "checkpoint = model.state_dict()\n",
    "device = \"cuda\" if torch.cuda.is_available() else \"cpu\"\n",
    "\n",
    "model.to(device)"
   ]
  },
  {
   "cell_type": "code",
   "execution_count": null,
   "id": "ea99e85d",
   "metadata": {},
   "outputs": [],
   "source": [
    "# Pobieranie i tworzenie datasetów\n",
    "X_train = datasets.CIFAR100(\"CIFAR100\", download=True, train=True, transform=transforms.Compose([transforms.Resize(224), transforms.ToTensor()]))\n",
    "X_train = torch.utils.data.Subset(X_train, list(range(128)))\n",
    "\n",
    "X_test = datasets.CIFAR100(\"CIFAR100\", download=True, train=False, transform=transforms.Compose([transforms.Resize(224), transforms.ToTensor()]))\n",
    "X_test = torch.utils.data.Subset(X_test, list(range(64)))\n",
    "\n",
    "\n",
    "train_loader = torch.utils.data.DataLoader(\n",
    "    X_train,\n",
    "    batch_size=64,\n",
    "    shuffle=True,\n",
    "    pin_memory=(device == \"cuda\"),\n",
    "    num_workers=(4 if device == \"cuda\" else 0))\n",
    "\n",
    "targets_loader = torch.utils.data.DataLoader(\n",
    "    X_test,\n",
    "    batch_size=64,\n",
    "    shuffle=True,\n",
    "    pin_memory=(device == \"cuda\"),\n",
    "    num_workers=(4 if device == \"cuda\" else 0))\n",
    "\n"
   ]
  },
  {
   "cell_type": "code",
   "execution_count": null,
   "id": "07d2f739",
   "metadata": {},
   "outputs": [],
   "source": [
    "# Inicjalizacja i uruchomienie TRAKa\n",
    "\n",
    "traker = TRAKer(model=model, task='image_classification', train_set_size=len(X_train))\n",
    "\n",
    "i=1\n",
    "traker.load_checkpoint(checkpoint, model_id=0)\n",
    "for X, y in train_loader:\n",
    "    X = X.to(device, non_blocking=True)\n",
    "    y = y.to(device, non_blocking=True)\n",
    "    traker.featurize(batch=(X, y), num_samples=X.shape[0])\n",
    "    print(f\"Batch [{i}/{len(train_loader)}] Completed\")\n",
    "    i+=1\n",
    "traker.finalize_features()\n",
    "\n",
    "traker.start_scoring_checkpoint('quickstart', checkpoint, model_id=0, num_targets=len(X_test))\n",
    "\n",
    "i=1\n",
    "for X, y in targets_loader:\n",
    "    X = X.to(device, non_blocking=True)\n",
    "    y = y.to(device, non_blocking=True)\n",
    "    traker.score(batch=(X, y), num_samples=X.shape[0])\n",
    "    print(f\"Batch [{i}/{len(targets_loader)}] Completed\")\n",
    "    i+=1\n",
    "\n",
    "scores = traker.finalize_scores(exp_name='quickstart')\n",
    "plot = plt.matshow(scores)\n"
   ]
  },
  {
   "cell_type": "markdown",
   "id": "ba81c7eb",
   "metadata": {},
   "source": [
    "Na powyższym wykresie przedstawiony jest wpływ danych treningowych (oś X) na predykcję danych testowych (oś Y)."
   ]
  }
 ],
 "metadata": {
  "kernelspec": {
   "display_name": ".venv",
   "language": "python",
   "name": "python3"
  },
  "language_info": {
   "codemirror_mode": {
    "name": "ipython",
    "version": 3
   },
   "file_extension": ".py",
   "mimetype": "text/x-python",
   "name": "python",
   "nbconvert_exporter": "python",
   "pygments_lexer": "ipython3",
   "version": "3.10.9"
  }
 },
 "nbformat": 4,
 "nbformat_minor": 5
}
